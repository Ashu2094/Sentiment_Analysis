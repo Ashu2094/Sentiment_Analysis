{
 "cells": [
  {
   "cell_type": "code",
   "execution_count": 4,
   "id": "8ef7758f",
   "metadata": {},
   "outputs": [],
   "source": [
    "f=open('practise.txt','w+')\n",
    "f.write('This is test string')\n",
    "f.close()"
   ]
  },
  {
   "cell_type": "code",
   "execution_count": 5,
   "id": "880512df",
   "metadata": {},
   "outputs": [
    {
     "data": {
      "text/plain": [
       "'C:\\\\Users\\\\ashup\\\\Advance-Python-Module'"
      ]
     },
     "execution_count": 5,
     "metadata": {},
     "output_type": "execute_result"
    }
   ],
   "source": [
    "pwd # special command in jupyter for python we have"
   ]
  },
  {
   "cell_type": "code",
   "execution_count": 6,
   "id": "ff550c00",
   "metadata": {},
   "outputs": [],
   "source": [
    "import os"
   ]
  },
  {
   "cell_type": "code",
   "execution_count": 9,
   "id": "950c0389",
   "metadata": {},
   "outputs": [
    {
     "data": {
      "text/plain": [
       "'C:\\\\Users\\\\ashup\\\\Advance-Python-Module'"
      ]
     },
     "execution_count": 9,
     "metadata": {},
     "output_type": "execute_result"
    }
   ],
   "source": [
    "os.getcwd()"
   ]
  },
  {
   "cell_type": "code",
   "execution_count": 11,
   "id": "8a11aecf",
   "metadata": {},
   "outputs": [
    {
     "name": "stdout",
     "output_type": "stream",
     "text": [
      "['.ipynb_checkpoints', '01-opening-and-reading-files-folders.ipynb', 'practise.txt']\n"
     ]
    }
   ],
   "source": [
    "print(os.listdir())"
   ]
  },
  {
   "cell_type": "code",
   "execution_count": 12,
   "id": "57f177f6",
   "metadata": {},
   "outputs": [
    {
     "name": "stdout",
     "output_type": "stream",
     "text": [
      "['All Users', 'ashup', 'Default', 'Default User', 'desktop.ini', 'Public']\n"
     ]
    }
   ],
   "source": [
    "print(os.listdir('C:\\\\Users'))"
   ]
  },
  {
   "cell_type": "code",
   "execution_count": 23,
   "id": "42ef8f1e",
   "metadata": {},
   "outputs": [
    {
     "data": {
      "text/plain": [
       "'C:\\\\Users\\\\ashup\\\\Advance-Python-Module\\\\practise.txt'"
      ]
     },
     "execution_count": 23,
     "metadata": {},
     "output_type": "execute_result"
    }
   ],
   "source": [
    "import shutil\n",
    "#shutil.move('C:\\\\Users\\\\ashup\\\\Destination\\\\practise.txt',os.getcwd())"
   ]
  },
  {
   "cell_type": "code",
   "execution_count": 24,
   "id": "352769c7",
   "metadata": {},
   "outputs": [
    {
     "data": {
      "text/plain": [
       "'C:\\\\Users\\\\ashup\\\\Destination\\\\practise.txt'"
      ]
     },
     "execution_count": 24,
     "metadata": {},
     "output_type": "execute_result"
    }
   ],
   "source": [
    "shutil.move('practise.txt','C:\\\\Users\\\\ashup\\\\Destination') # moves the source file to mentioned destination"
   ]
  },
  {
   "cell_type": "code",
   "execution_count": 16,
   "id": "bb64523c",
   "metadata": {},
   "outputs": [],
   "source": [
    "# delete"
   ]
  },
  {
   "cell_type": "code",
   "execution_count": 17,
   "id": "b3c11c14",
   "metadata": {},
   "outputs": [],
   "source": [
    "# 1 os.unlink(path)\n",
    "# deletes a file at the path we provide"
   ]
  },
  {
   "cell_type": "code",
   "execution_count": 18,
   "id": "c8b70bde",
   "metadata": {},
   "outputs": [],
   "source": [
    "# 2 os.rmdir(path) \n",
    "# deletes a folder at the provided path"
   ]
  },
  {
   "cell_type": "code",
   "execution_count": 19,
   "id": "e83d1c10",
   "metadata": {},
   "outputs": [],
   "source": [
    "# 3 os.rmtree(path)"
   ]
  },
  {
   "cell_type": "code",
   "execution_count": 20,
   "id": "bcd95afc",
   "metadata": {},
   "outputs": [],
   "source": [
    "# deletes all files and folders conatined in the path.\n",
    "# Once deleted cant be recovered. Therefore safer alternative is \n",
    "# to use send2trash module. It sends to trash bin instead of permanent removal"
   ]
  },
  {
   "cell_type": "code",
   "execution_count": 21,
   "id": "3df31db0",
   "metadata": {},
   "outputs": [],
   "source": [
    "# example of send2trassh"
   ]
  },
  {
   "cell_type": "code",
   "execution_count": 25,
   "id": "4b1390b5",
   "metadata": {},
   "outputs": [],
   "source": [
    "import send2trash"
   ]
  },
  {
   "cell_type": "code",
   "execution_count": 26,
   "id": "76c17028",
   "metadata": {},
   "outputs": [],
   "source": [
    "# send2.trash.send2trash('practise.dir')"
   ]
  },
  {
   "cell_type": "code",
   "execution_count": 27,
   "id": "4818166b",
   "metadata": {},
   "outputs": [
    {
     "data": {
      "text/plain": [
       "'C:\\\\Users\\\\ashup\\\\Advance-Python-Module'"
      ]
     },
     "execution_count": 27,
     "metadata": {},
     "output_type": "execute_result"
    }
   ],
   "source": [
    "os.getcwd()"
   ]
  },
  {
   "cell_type": "code",
   "execution_count": null,
   "id": "bc2edb99",
   "metadata": {},
   "outputs": [],
   "source": [
    "#  this os.walk returns a tuple with three members as folder subfolder and files"
   ]
  },
  {
   "cell_type": "code",
   "execution_count": 28,
   "id": "1e34b201",
   "metadata": {},
   "outputs": [
    {
     "name": "stdout",
     "output_type": "stream",
     "text": [
      "Currently looking at C:\\Users\\ashup\\Advance-Python-Module\\Example_top_level\n",
      "\n",
      "The folders are : \n",
      "Subfolder: .ipynb_checkpoints\n",
      "Subfolder: Mid-Example-One\n",
      "Subfolder: Mid-Example-Two\n",
      "\n",
      "\n",
      "The files are: \n",
      "\t File: Mid-Example.txt\n",
      "\n",
      "\n",
      "Currently looking at C:\\Users\\ashup\\Advance-Python-Module\\Example_top_level\\.ipynb_checkpoints\n",
      "\n",
      "The folders are : \n",
      "\n",
      "\n",
      "The files are: \n",
      "\n",
      "\n",
      "Currently looking at C:\\Users\\ashup\\Advance-Python-Module\\Example_top_level\\Mid-Example-One\n",
      "\n",
      "The folders are : \n",
      "Subfolder: .ipynb_checkpoints\n",
      "Subfolder: Bottom-Level-One\n",
      "Subfolder: Bottom-Level-Two\n",
      "\n",
      "\n",
      "The files are: \n",
      "\t File: Mid-Level-Doc.txt\n",
      "\n",
      "\n",
      "Currently looking at C:\\Users\\ashup\\Advance-Python-Module\\Example_top_level\\Mid-Example-One\\.ipynb_checkpoints\n",
      "\n",
      "The folders are : \n",
      "\n",
      "\n",
      "The files are: \n",
      "\n",
      "\n",
      "Currently looking at C:\\Users\\ashup\\Advance-Python-Module\\Example_top_level\\Mid-Example-One\\Bottom-Level-One\n",
      "\n",
      "The folders are : \n",
      "\n",
      "\n",
      "The files are: \n",
      "\n",
      "\n",
      "Currently looking at C:\\Users\\ashup\\Advance-Python-Module\\Example_top_level\\Mid-Example-One\\Bottom-Level-Two\n",
      "\n",
      "The folders are : \n",
      "\n",
      "\n",
      "The files are: \n",
      "\n",
      "\n",
      "Currently looking at C:\\Users\\ashup\\Advance-Python-Module\\Example_top_level\\Mid-Example-Two\n",
      "\n",
      "The folders are : \n",
      "\n",
      "\n",
      "The files are: \n",
      "\n",
      "\n"
     ]
    }
   ],
   "source": [
    "for folder,sub_folder,files in os.walk('C:\\\\Users\\\\ashup\\\\Advance-Python-Module\\\\Example_top_level'):\n",
    "    print(f\"Currently looking at {folder}\\n\")\n",
    "    print('The folders are : ')\n",
    "    for sub_fol in sub_folder:\n",
    "        print(f\"Subfolder: {sub_fol}\")\n",
    "    print(\"\\n\")\n",
    "    print(\"The files are: \")\n",
    "    for f in files:\n",
    "        print(f\"\\t File: {f}\")\n",
    "    print('\\n')    \n",
    "    "
   ]
  },
  {
   "cell_type": "code",
   "execution_count": null,
   "id": "cf25cfb7",
   "metadata": {},
   "outputs": [],
   "source": []
  }
 ],
 "metadata": {
  "kernelspec": {
   "display_name": "Python 3 (ipykernel)",
   "language": "python",
   "name": "python3"
  },
  "language_info": {
   "codemirror_mode": {
    "name": "ipython",
    "version": 3
   },
   "file_extension": ".py",
   "mimetype": "text/x-python",
   "name": "python",
   "nbconvert_exporter": "python",
   "pygments_lexer": "ipython3",
   "version": "3.9.7"
  }
 },
 "nbformat": 4,
 "nbformat_minor": 5
}
